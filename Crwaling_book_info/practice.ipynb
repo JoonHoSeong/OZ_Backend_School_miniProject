{
 "cells": [
  {
   "cell_type": "code",
   "execution_count": 1,
   "metadata": {},
   "outputs": [
    {
     "name": "stderr",
     "output_type": "stream",
     "text": [
      "/Users/mac/Desktop/JoonHo/OZ_Backend_School_miniProject/Crwaling_book_info/.venv/lib/python3.10/site-packages/tqdm/auto.py:21: TqdmWarning: IProgress not found. Please update jupyter and ipywidgets. See https://ipywidgets.readthedocs.io/en/stable/user_install.html\n",
      "  from .autonotebook import tqdm as notebook_tqdm\n"
     ]
    },
    {
     "data": {
      "text/plain": [
       "'/Users/mac/.wdm/drivers/chromedriver/mac64/124.0.6367.60/chromedriver-mac-x64/chromedriver'"
      ]
     },
     "execution_count": 1,
     "metadata": {},
     "output_type": "execute_result"
    }
   ],
   "source": [
    "from selenium import webdriver\n",
    "from webdriver_manager.chrome import ChromeDriverManager\n",
    "from selenium.webdriver.common.by import By\n",
    "import re\n",
    "from datetime import datetime\n",
    "from tqdm.auto import tqdm\n",
    "import pymysql\n",
    "\n",
    "# 크롬 드라이버 자동 Install\n",
    "ChromeDriverManager().install()\n"
   ]
  },
  {
   "cell_type": "code",
   "execution_count": 2,
   "metadata": {},
   "outputs": [],
   "source": [
    "browser = webdriver.Chrome()\n",
    "path = './chromedriver' #크롬 드라이버 저장 경로\n",
    "#Yes24 베스트 셀러를 1페이지에 120개씩 볼수 있도록 URL 설정\n",
    "# browser.get('https://www.yes24.com/Product/Category/BestSeller?categoryNumber=001&pageNumber=1&pageSize=120') #URL로 이동\n",
    "# #페이지가 로딩 될때까지 10초간 대기, 로딩이 완료되면 다음 코드 즉시 실행\n",
    "# browser.implicitly_wait(time_to_wait=1000) \n",
    "\n"
   ]
  },
  {
   "cell_type": "code",
   "execution_count": 3,
   "metadata": {},
   "outputs": [],
   "source": [
    "# 데이터 베이스 연결\n",
    "\n",
    "conn = pymysql.connect(\n",
    "    host='localhost',  # 데이터베이스 서버 주소\n",
    "    user='root',       # 데이터베이스 사용자 이름\n",
    "    password='root',  # 데이터베이스 비밀번호\n",
    "    db='YES24',       # 데이터베이스 이름\n",
    "    charset='utf8mb4',\n",
    "    cursorclass=pymysql.cursors.DictCursor\n",
    ")"
   ]
  },
  {
   "cell_type": "code",
   "execution_count": 4,
   "metadata": {},
   "outputs": [],
   "source": [
    "def sql_execute(sql, *args) :\n",
    "    with conn.cursor() as cursor :\n",
    "        cursor.execute(sql,*args)\n",
    "        if 'select' in sql.lower() :\n",
    "            return cursor.fetchall()\n",
    "        conn.commit()"
   ]
  },
  {
   "cell_type": "code",
   "execution_count": 8,
   "metadata": {},
   "outputs": [
    {
     "name": "stdout",
     "output_type": "stream",
     "text": [
      "1\n",
      "24\n",
      "불변의 법칙 모건 하우절 저/이수경 역 서삼독 2024-02-28 9.8 133 493959 22500 1 15\n",
      "나를 소모하지 않는 현명한 태도에 관하여 마티아스 뇔케 저/이미옥 역 퍼스트펭귄 2024-03-10 9.6 58 297954 16020 2 204\n",
      "빨모쌤의 라이브 영어회화 신용하 저 웅진지식하우스 2024-04-24 9.7 25 105840 19800 3 0\n",
      "나는 읽고 쓰고 버린다 손웅정 저 난다 2024-04-20 9.8 12 100740 15300 4 0\n",
      "일류의 조건 사이토 다카시 저/정현 역 필름 2024-03-20 9.7 207 278133 17820 5 204\n",
      "꽃길이 따로 있나, 내 삶이 꽃인 것을 오평선 저 포레스트북스 2024-03-22 9.8 55 147033 15120 6 202\n",
      "사카모토 데이즈 15 더블특전판 스즈키 유우토 글그림 대원 2024-04-30 0.0 0 56190 5400 7 0\n",
      "삶이 흔들릴 때 뇌과학을 읽습니다 이케가야 유지 글/김성기 역 힉스 2024-03-27 10.0 22 78048 16200 8 1001\n",
      "마흔에 읽는 쇼펜하우어 강용수 저 유노북스 2023-09-07 8.8 432 855939 15300 9 112\n",
      "세이노의 가르침 세이노(SayNo) 저 데이원 2023-03-02 9.0 2182 1649172 6480 10 122\n",
      "나는 메트로폴리탄 미술관의 경비원입니다 패트릭 브링리 저/김희정, 조현주 역 웅진지식하우스 2023-11-24 9.2 281 421230 15750 11 2016\n",
      "흔한남매 16 흔한남매 원저/백난도 글/유난희 그림/흔한컴퍼니 감수 미래엔아이세움 2024-04-25 10.0 2 38040 13050 12 0\n",
      "나는 나의 스무 살을 가장 존중한다 이하영 저 토네이도 2024-02-28 9.5 69 115827 16200 13 202\n",
      "이상한 과자 가게 전천당 20 히로시마 레이코 글/쟈쟈 그림/김정화 역 길벗스쿨 2024-04-22 9.1 16 61239 11700 14 201\n",
      "돈의 심리학 (30만 부 기념 스페셜 에디션) 모건 하우절 저/이지연 역 인플루엔셜 2021-01-13 9.3 824 214503 17820 15 2020\n",
      "에그박사 12 에그박사 원저/박송이 글/홍종현 그림/김보숙 감수 미래엔아이세움 2024-03-22 10.0 13 74241 13050 16 202\n",
      "삼체 1~3 세트 류츠신 저/이현아, 허유영 역 자음과모음 2020-07-06 9.7 60 160104 60300 17 203\n",
      "이처럼 사소한 것들 클레어 키건 저/홍한별 역 다산책방 2023-11-27 9.6 259 291459 12420 18 2014\n",
      "ETS 토익 정기시험 기출문제집 1000 Vol. 4 RC ETS 저 YBM(와이비엠) 2023-12-20 9.8 75 292692 17820 19 2017\n",
      "찌그러져도 동그라미입니다 김창완 저 웅진지식하우스 2024-03-28 10.0 36 107760 16020 20 203\n",
      "ETS 토익 정기시험 기출문제집 1000 Vol. 4 LC ETS 저 YBM(와이비엠) 2023-12-20 9.7 70 273705 17820 21 2016\n",
      "2024 큰별쌤 최태성의 별별한국사 한국사능력검정시험 심화(1,2,3급) 상 최태성 저 이투스북 2023-12-01 9.8 53 234921 14400 22 205\n",
      "내일의 으뜸 김빵 저 다향 2024-04-18 9.8 8 44835 11700 23 1001\n",
      "던전밥 14 쿠이 료코 글그림/김민재 역 소미미디어 2024-05-03 0.0 0 27960 6300 24 0\n",
      "2\n",
      "24\n",
      "2024 큰별쌤 최태성의 별별한국사 한국사능력검정시험 심화(1,2,3급) 하 최태성 저 이투스북 2023-12-01 9.9 39 219762 13950 25 205\n",
      "2024 제15회 젊은작가상 수상작품집 김멜라, 공현진, 김기태, 김남숙, 김지연 저 외 2명 정보 더 보기/감추기 문학동네 2024-03-31 10.0 17 70962 6930 26 201\n",
      "하루 한 장 나의 어휘력을 위한 필사 노트 유선경 저 위즈덤하우스 2024-03-28 9.9 58 65454 21420 27 1002\n",
      "사랑 이유식 · 유아식 김하은, 김환 저/조은지 감수 온포인트 2024-04-15 10.0 16 29280 25200 28 0\n",
      "아이는 무엇으로 자라는가 버지니아 사티어 저/강유리 역 포레스트북스 2023-12-18 9.5 103 162771 15750 29 207\n",
      "깨진 틈이 있어야 그 사이로 빛이 들어온다 프리드리히 니체 저/김신종 역 페이지2 2024-03-11 9.8 160 118770 16920 30 204\n",
      "쇼펜하우어 인생수업 : 한 번뿐인 삶 이렇게 살아라 쇼펜하우어 저 / 김지민 편 하이스트 2024-02-20 9.5 22 89487 15750 31 1004\n",
      "지적인 어른을 위한 최소한의 교양수업 사이토 다카시 저/신찬 역 더퀘스트 2024-03-20 9.6 41 58434 16920 32 1003\n",
      "알사탕 제조법 백희나 저 스토리보울 2024-03-21 7.5 84 162195 9000 33 203\n",
      "이은경쌤의 초등어휘일력 365 이은경 저 포레스트북스 2022-10-28 9.8 286 271488 16920 34 2016\n",
      "여행의 이유 김영하 저 복복서가 2024-04-17 9.1 1522 43209 15120 35 201\n",
      "우리는 모두 죽는다는 것을 기억하라 웨인 다이어 저/정지현 역 토네이도 2019-11-18 9.1 118 149307 15300 36 202\n",
      "모순 양귀자 저 쓰다 2013-04-01 9.6 905 254526 11700 37 10049\n",
      "처음부터 시작하는 주식투자 단타전략 홍인기 저 길벗 2023-12-22 8.4 177 210960 18900 38 206\n",
      "어린이를 위한 채소 과일식 조승우 글/오승만 그림 한경키즈(한국경제신문) 2024-04-05 9.6 5 30960 13500 39 1001\n",
      "철도원 삼대 황석영 저 창비 2020-06-01 9.5 129 47103 18000 40 1006\n",
      "사람을 안다는 것 데이비드 브룩스 저/이경식 역 웅진지식하우스 2024-04-01 9.4 21 42243 18000 41 1002\n",
      "양수인간 최설민 저 북모먼트 2024-03-27 9.6 28 52695 17820 42 201\n",
      "마이크로 리추얼 : 사소한 것들의 힘 장재열 저 한국경제신문 2024-04-25 10.0 14 19740 16200 43 0\n",
      "내 몸 혁명 박용우 저 루미너스 2024-01-10 9.9 21 62982 17550 44 1003\n",
      "채소 과일 레시피 박경희 저 터치아트 2024-04-15 9.7 7 13977 19800 45 0\n",
      "플라톤의 인생 수업 장재형 저 다산초당 2024-03-27 9.9 74 39075 16920 46 1001\n",
      "만화 나 혼자만 레벨업 10 추공 원저/장성락(REDICE STUDIO) 글그림 디앤씨웹툰비즈 2024-04-18 10.0 4 53334 14400 47 1003\n",
      "도둑맞은 집중력 요한 하리 저/김하현 역 어크로스 2023-04-28 8.8 768 580179 16920 48 2039\n",
      "3\n",
      "24\n",
      "물질의 세계 에드 콘웨이 저/이종인 역 인플루엔셜 2024-03-08 9.8 54 85362 26820 49 201\n",
      "위풍당당 여우 꼬리 5 손원평 글/만물상 그림 창비 2024-03-29 9.8 31 62793 11700 50 1003\n",
      "일을 잘 맡기는 기술 모리야 도모타 저/정지영 역 센시오 2024-03-26 9.2 26 64491 15120 51 1003\n",
      "오십에 읽는 손자병법 최송목 저 유노북스 2024-02-28 9.8 29 69153 16650 52 1006\n",
      "아홉 살에 시작하는 똑똑한 초등신문 신효원 저 책장속북스 2023-05-05 9.8 361 337203 15750 53 2014\n",
      "퓨처 셀프 벤저민 하디 저/최은아 역 상상스퀘어 2023-08-30 8.7 435 586158 17820 54 12\n",
      "스킵과 로퍼 8 타카마츠 미사키 글그림/신혜선 역 YNKMEDIA 2024-04-26 0.0 0 47772 5400 55 201\n",
      "타키 포오 코믹 어드벤처 5 캐릭온TV 원저/안도감 글/김규태 그림 대원씨아이(단행)(대원키즈) 2024-04-15 0.0 0 15510 13050 56 0\n",
      "최태성의 한능검 한국사 1 윤상석 글/이태영 그림/최태성 기획 다산어린이 2024-04-15 10.0 6 17418 12600 57 1001\n",
      "정재승의 인간 탐구 보고서 14 정재은, 이고은 글/김현민 그림/정재승 기획 아울북 2024-04-17 0.0 0 15600 14220 58 0\n",
      "내가 천 개의 인생에서 배운 것들 김도윤 저 북로망스 2024-04-17 10.0 15 22782 16200 59 201\n"
     ]
    },
    {
     "ename": "",
     "evalue": "",
     "output_type": "error",
     "traceback": [
      "\u001b[1;31mCannot execute code, session has been disposed. Please try restarting the Kernel."
     ]
    },
    {
     "ename": "",
     "evalue": "",
     "output_type": "error",
     "traceback": [
      "\u001b[1;31mCannot execute code, session has been disposed. Please try restarting the Kernel. \n",
      "\u001b[1;31mView Jupyter <a href='command:jupyter.viewOutput'>log</a> for further details."
     ]
    }
   ],
   "source": [
    "fail_list = []\n",
    "sql = \"\"\"\n",
    "        INSERT INTO Books(title, author,publisher,publishing,rating,review, sales,price,ranking,ranking_weeks)\n",
    "        VALUES(%s,%s,%s,%s,%s,%s,%s,%s,%s,%s)\n",
    "        \"\"\"\n",
    "for page_num in range(1,43) :\n",
    "    print('페이지 번호 :',page_num)\n",
    "    browser.get(f\"https://www.yes24.com/Product/Category/BestSeller?categoryNumber=001&pageNumber={page_num}&pageSize=24\") #URL로 이동\n",
    "    #페이지가 로딩 될때까지 10초간 대기, 로딩이 완료되면 다음 코드 즉시 실행\n",
    "    browser.implicitly_wait(time_to_wait=10) \n",
    "    book_list = browser.find_element(By.ID, 'yesBestList').find_elements(By.CLASS_NAME, 'itemUnit')\n",
    "    for i in range(len(book_list)) :\n",
    "        book_list[i].find_element(By.CLASS_NAME, 'gd_name').click() #제목 클릭하여 접속\n",
    "        browser.implicitly_wait(time_to_wait=10) \n",
    "        try :\n",
    "            title = browser.find_element(By.CLASS_NAME, 'gd_name').text # 제목\n",
    "        except : \n",
    "            fail_list.append(i)\n",
    "            continue\n",
    "        try :\n",
    "            author = browser.find_element(By.CLASS_NAME, 'gd_auth').text # 저자\n",
    "        except : \n",
    "            fail_list.append(i)\n",
    "            continue\n",
    "        try :\n",
    "            publisher = browser.find_element(By.CLASS_NAME, 'gd_pub').text #출판사\n",
    "        except : \n",
    "            fail_list.append(i)\n",
    "            continue\n",
    "        try : \n",
    "            publishing = browser.find_element(By.CLASS_NAME, 'gd_date').text #출판일\n",
    "            match = re.search(r'(\\d+)년 (\\d+)월 (\\d+)일', publishing)\n",
    "            if match :\n",
    "                year, month, day = match.groups()\n",
    "                date_data = datetime(int(year), int(month), int(day))\n",
    "                publishing = date_data.strftime('%Y-%m-%d')\n",
    "            else :\n",
    "                date_data = datetime(int(9999), int(12), int(31))\n",
    "                publishing = date_data.strftime('%Y-%m-%d')\n",
    "        except : \n",
    "            fail_list.append(i)\n",
    "            continue\n",
    "        try :\n",
    "            rating = browser.find_element(By.CLASS_NAME, 'gd_rating').find_element(By.CLASS_NAME,'yes_b').text # 평점\n",
    "        except : \n",
    "            rating = '0.0'\n",
    "        try :\n",
    "            review = browser.find_element(By.CLASS_NAME, 'gd_reviewCount').find_element(By.CLASS_NAME, 'txC_blue').text.replace(',','')#리뷰수\n",
    "        except : \n",
    "            review = '0'\n",
    "        try :\n",
    "            sales = browser.find_element(By.CLASS_NAME, 'gd_sellNum').text.split(' ')[2].replace(',','') #판매지수\n",
    "        except : \n",
    "            sales = '0'\n",
    "        try :\n",
    "            price = browser.find_element(By.CLASS_NAME, 'nor_price').find_element(By.CLASS_NAME, 'yes_m').text.replace(',','') #가격\n",
    "        except : \n",
    "            fail_list.append(i)\n",
    "            continue\n",
    "        try :\n",
    "            ranking = browser.find_element(By.CLASS_NAME, 'gd_best_tp02').text.split(' | ')[0]\n",
    "            ranking = ''.join(filter(str.isdigit,ranking))#국내 도서랭킹\n",
    "        except : \n",
    "            fail_list.append(i)\n",
    "            continue\n",
    "        try :\n",
    "            ranking_weeks = browser.find_element(By.CLASS_NAME, 'gd_best_tp02').text.split(' | ')[1] #국내 TOP 100\n",
    "            ranking_weeks = ''.join(filter(str.isdigit,ranking_weeks))\n",
    "        except : \n",
    "            ranking_weeks = '0'\n",
    "        browser.back()\n",
    "        browser.implicitly_wait(time_to_wait=10) \n",
    "        sql_execute(sql, (title, author, publisher, publishing, rating, review, sales, price, ranking, ranking_weeks))\n",
    "        print('저장 정보 :',title, author, publisher, publishing, rating, review, sales, price, ranking, ranking_weeks)"
   ]
  },
  {
   "cell_type": "code",
   "execution_count": 6,
   "metadata": {},
   "outputs": [
    {
     "data": {
      "text/plain": [
       "('세이노의 가르침',\n",
       " '세이노(SayNo) 저',\n",
       " '데이원',\n",
       " '2023-03-02',\n",
       " '9.0',\n",
       " '2,182',\n",
       " '1649172',\n",
       " '6480',\n",
       " '10',\n",
       " '122')"
      ]
     },
     "execution_count": 6,
     "metadata": {},
     "output_type": "execute_result"
    }
   ],
   "source": [
    "title, author, publisher, publishing, rating, review, sales, price, ranking, ranking_weeks"
   ]
  },
  {
   "cell_type": "code",
   "execution_count": 7,
   "metadata": {},
   "outputs": [
    {
     "data": {
      "text/plain": [
       "'2,182'"
      ]
     },
     "execution_count": 7,
     "metadata": {},
     "output_type": "execute_result"
    }
   ],
   "source": [
    "review"
   ]
  },
  {
   "cell_type": "code",
   "execution_count": 49,
   "metadata": {},
   "outputs": [],
   "source": [
    "\n"
   ]
  },
  {
   "cell_type": "code",
   "execution_count": null,
   "metadata": {},
   "outputs": [],
   "source": []
  }
 ],
 "metadata": {
  "kernelspec": {
   "display_name": ".venv",
   "language": "python",
   "name": "python3"
  },
  "language_info": {
   "codemirror_mode": {
    "name": "ipython",
    "version": 3
   },
   "file_extension": ".py",
   "mimetype": "text/x-python",
   "name": "python",
   "nbconvert_exporter": "python",
   "pygments_lexer": "ipython3",
   "version": "3.10.14"
  }
 },
 "nbformat": 4,
 "nbformat_minor": 2
}
